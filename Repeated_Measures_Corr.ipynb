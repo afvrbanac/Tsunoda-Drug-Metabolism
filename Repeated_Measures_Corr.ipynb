{
 "cells": [
  {
   "cell_type": "markdown",
   "metadata": {},
   "source": [
    "# Repeated Measures Correlations"
   ]
  },
  {
   "cell_type": "markdown",
   "metadata": {},
   "source": [
    "Versions:\n",
    "- pandas 0.24.2\n",
    "- pingouin 0.2.5"
   ]
  },
  {
   "cell_type": "code",
   "execution_count": 1,
   "metadata": {},
   "outputs": [],
   "source": [
    "import pandas as pd\n",
    "import pingouin as pg\n",
    "\n",
    "%matplotlib inline"
   ]
  },
  {
   "cell_type": "code",
   "execution_count": 2,
   "metadata": {},
   "outputs": [],
   "source": [
    "mapping = pd.read_csv('Data_Files/Metadata_Metabolome.txt', sep='\\t', dtype={'#SampleID':str})\n",
    "distances_d0 = pd.read_csv('Data_Files/FirstDifferences_Baseline.txt', sep='\\t', dtype={'#SampleID':str})\n",
    "\n",
    "mapping.set_index('#SampleID', inplace=True)\n",
    "distances_d0.set_index('#SampleID', inplace=True)"
   ]
  },
  {
   "cell_type": "code",
   "execution_count": 3,
   "metadata": {},
   "outputs": [],
   "source": [
    "distances_d0 = distances_d0.rename({'Distance':'Distance_d0'}, axis=1)"
   ]
  },
  {
   "cell_type": "code",
   "execution_count": 4,
   "metadata": {},
   "outputs": [],
   "source": [
    "mapping_dist = pd.merge(mapping, distances_d0, left_index=True, right_index=True)"
   ]
  },
  {
   "cell_type": "code",
   "execution_count": 5,
   "metadata": {},
   "outputs": [],
   "source": [
    "met_subset = mapping[mapping['time_point'].isin([2,3,4,5,6,7,8,9])]\n",
    "met_subset_dist = mapping_dist[mapping_dist['time_point'].isin([2,3,4,5,6,7,8,9])]"
   ]
  },
  {
   "cell_type": "markdown",
   "metadata": {},
   "source": [
    "## Correlation with Alpha Diversity"
   ]
  },
  {
   "cell_type": "code",
   "execution_count": 6,
   "metadata": {},
   "outputs": [],
   "source": [
    "metabolites = ['time_point','creatinine', 'CAF_caffeine', 'DEX_dextromethorphan', 'MDZ_midazolam', 'CAF_methylxanthine', 'DEX_3hydroxymorphinan', 'DEX_3methoxymorphinan', 'MDZ_5hydroxyMDZ', 'MDZ_hydroxyMDZ_glucuronide', 'OME1_Omeprazole', 'OME3_Omeprazole_sulfide', 'OME4_Omeprazole_sulfone', 'OME5_Hydroxyomeprazole', 'OME7_Hydroxyomeprazole_sulfide', 'OME11_Carboxyomeprazole', 'OME13_Carboxyomeprazole_sulfide', 'OME15_Carboxyomeprazole_sulfone', 'OME17_5_O_desmethylomeprazole', 'OME1920_O_desmethylomeprazole_sulfide', 'OME27_Omeprazole_sulfide_O_glucuronide', 'OME29_Omeprazole_sulfide_4_O_glucuronide']"
   ]
  },
  {
   "cell_type": "code",
   "execution_count": 7,
   "metadata": {},
   "outputs": [],
   "source": [
    "df_subset = pd.DataFrame({'r':[], 'dof':[], 'pval':[], 'CI95%':[], 'power':[]})"
   ]
  },
  {
   "cell_type": "code",
   "execution_count": 8,
   "metadata": {},
   "outputs": [],
   "source": [
    "for i in metabolites:\n",
    "    x = pg.rm_corr(data=met_subset, x='observed_otus', y=i, subject='host_subject_id')\n",
    "    df_subset = df_subset.append(x)"
   ]
  },
  {
   "cell_type": "code",
   "execution_count": 9,
   "metadata": {},
   "outputs": [],
   "source": [
    "df_subset['name'] = (metabolites)"
   ]
  },
  {
   "cell_type": "code",
   "execution_count": 10,
   "metadata": {},
   "outputs": [],
   "source": [
    "sig = []\n",
    "for i in df_subset['pval']:\n",
    "    if i > 0.05: \n",
    "        sig.append('FALSE')\n",
    "    else:\n",
    "        sig.append('TRUE')\n",
    "df_subset['sig'] = sig"
   ]
  },
  {
   "cell_type": "code",
   "execution_count": 11,
   "metadata": {},
   "outputs": [
    {
     "data": {
      "text/html": [
       "<div>\n",
       "<style scoped>\n",
       "    .dataframe tbody tr th:only-of-type {\n",
       "        vertical-align: middle;\n",
       "    }\n",
       "\n",
       "    .dataframe tbody tr th {\n",
       "        vertical-align: top;\n",
       "    }\n",
       "\n",
       "    .dataframe thead th {\n",
       "        text-align: right;\n",
       "    }\n",
       "</style>\n",
       "<table border=\"1\" class=\"dataframe\">\n",
       "  <thead>\n",
       "    <tr style=\"text-align: right;\">\n",
       "      <th></th>\n",
       "      <th>r</th>\n",
       "      <th>dof</th>\n",
       "      <th>pval</th>\n",
       "      <th>CI95%</th>\n",
       "      <th>power</th>\n",
       "      <th>name</th>\n",
       "      <th>sig</th>\n",
       "    </tr>\n",
       "  </thead>\n",
       "  <tbody>\n",
       "    <tr>\n",
       "      <th>rm_corr</th>\n",
       "      <td>-0.607</td>\n",
       "      <td>75.0</td>\n",
       "      <td>4.865190e-09</td>\n",
       "      <td>[-0.73, -0.44]</td>\n",
       "      <td>1.000</td>\n",
       "      <td>time_point</td>\n",
       "      <td>TRUE</td>\n",
       "    </tr>\n",
       "    <tr>\n",
       "      <th>rm_corr</th>\n",
       "      <td>-0.158</td>\n",
       "      <td>75.0</td>\n",
       "      <td>1.699088e-01</td>\n",
       "      <td>[-0.37, 0.07]</td>\n",
       "      <td>0.281</td>\n",
       "      <td>creatinine</td>\n",
       "      <td>FALSE</td>\n",
       "    </tr>\n",
       "    <tr>\n",
       "      <th>rm_corr</th>\n",
       "      <td>-0.373</td>\n",
       "      <td>75.0</td>\n",
       "      <td>8.305643e-04</td>\n",
       "      <td>[-0.55, -0.16]</td>\n",
       "      <td>0.924</td>\n",
       "      <td>CAF_caffeine</td>\n",
       "      <td>TRUE</td>\n",
       "    </tr>\n",
       "    <tr>\n",
       "      <th>rm_corr</th>\n",
       "      <td>-0.132</td>\n",
       "      <td>75.0</td>\n",
       "      <td>2.529104e-01</td>\n",
       "      <td>[-0.35, 0.09]</td>\n",
       "      <td>0.209</td>\n",
       "      <td>DEX_dextromethorphan</td>\n",
       "      <td>FALSE</td>\n",
       "    </tr>\n",
       "    <tr>\n",
       "      <th>rm_corr</th>\n",
       "      <td>-0.422</td>\n",
       "      <td>75.0</td>\n",
       "      <td>1.295494e-04</td>\n",
       "      <td>[-0.59, -0.22]</td>\n",
       "      <td>0.974</td>\n",
       "      <td>MDZ_midazolam</td>\n",
       "      <td>TRUE</td>\n",
       "    </tr>\n",
       "  </tbody>\n",
       "</table>\n",
       "</div>"
      ],
      "text/plain": [
       "             r   dof          pval           CI95%  power  \\\n",
       "rm_corr -0.607  75.0  4.865190e-09  [-0.73, -0.44]  1.000   \n",
       "rm_corr -0.158  75.0  1.699088e-01   [-0.37, 0.07]  0.281   \n",
       "rm_corr -0.373  75.0  8.305643e-04  [-0.55, -0.16]  0.924   \n",
       "rm_corr -0.132  75.0  2.529104e-01   [-0.35, 0.09]  0.209   \n",
       "rm_corr -0.422  75.0  1.295494e-04  [-0.59, -0.22]  0.974   \n",
       "\n",
       "                         name    sig  \n",
       "rm_corr            time_point   TRUE  \n",
       "rm_corr            creatinine  FALSE  \n",
       "rm_corr          CAF_caffeine   TRUE  \n",
       "rm_corr  DEX_dextromethorphan  FALSE  \n",
       "rm_corr         MDZ_midazolam   TRUE  "
      ]
     },
     "execution_count": 11,
     "metadata": {},
     "output_type": "execute_result"
    }
   ],
   "source": [
    "df_subset.head()"
   ]
  },
  {
   "cell_type": "code",
   "execution_count": 12,
   "metadata": {},
   "outputs": [],
   "source": [
    "df_subset.to_csv('Final_Figures/RM_Corr/Correlation_Observed_OTUs.txt', sep='\\t')"
   ]
  },
  {
   "cell_type": "markdown",
   "metadata": {},
   "source": [
    "## Correlation with Time"
   ]
  },
  {
   "cell_type": "code",
   "execution_count": 13,
   "metadata": {},
   "outputs": [],
   "source": [
    "metabolites_time = ['observed_otus','creatinine', 'CAF_caffeine', 'DEX_dextromethorphan', 'MDZ_midazolam', 'CAF_methylxanthine', 'DEX_3hydroxymorphinan', 'DEX_3methoxymorphinan', 'MDZ_5hydroxyMDZ', 'MDZ_hydroxyMDZ_glucuronide', 'OME1_Omeprazole', 'OME3_Omeprazole_sulfide', 'OME4_Omeprazole_sulfone', 'OME5_Hydroxyomeprazole', 'OME7_Hydroxyomeprazole_sulfide', 'OME11_Carboxyomeprazole', 'OME13_Carboxyomeprazole_sulfide', 'OME15_Carboxyomeprazole_sulfone', 'OME17_5_O_desmethylomeprazole', 'OME1920_O_desmethylomeprazole_sulfide', 'OME27_Omeprazole_sulfide_O_glucuronide', 'OME29_Omeprazole_sulfide_4_O_glucuronide']"
   ]
  },
  {
   "cell_type": "code",
   "execution_count": 14,
   "metadata": {},
   "outputs": [],
   "source": [
    "df_time = pd.DataFrame({'r':[], 'dof':[], 'pval':[], 'CI95%':[], 'power':[]})"
   ]
  },
  {
   "cell_type": "code",
   "execution_count": 15,
   "metadata": {},
   "outputs": [],
   "source": [
    "for i in metabolites_time:\n",
    "    x = pg.rm_corr(data=met_subset, x='time_point', y=i, subject='host_subject_id')\n",
    "    df_time = df_time.append(x)"
   ]
  },
  {
   "cell_type": "code",
   "execution_count": 16,
   "metadata": {},
   "outputs": [],
   "source": [
    "df_time['name'] = (metabolites_time)"
   ]
  },
  {
   "cell_type": "code",
   "execution_count": 17,
   "metadata": {},
   "outputs": [],
   "source": [
    "sig = []\n",
    "for i in df_time['pval']:\n",
    "    if i > 0.05: \n",
    "        sig.append('FALSE')\n",
    "    else:\n",
    "        sig.append('TRUE')\n",
    "df_time['sig'] = sig"
   ]
  },
  {
   "cell_type": "code",
   "execution_count": 18,
   "metadata": {},
   "outputs": [],
   "source": [
    "df_time.to_csv('Final_Figures/RM_Corr/Correlation_Time_Point_ObsOTU.txt', sep='\\t')"
   ]
  },
  {
   "cell_type": "markdown",
   "metadata": {},
   "source": [
    "## Correlation with Distance to baseline"
   ]
  },
  {
   "cell_type": "code",
   "execution_count": 19,
   "metadata": {},
   "outputs": [],
   "source": [
    "metabolites_dist = ['time_point','observed_otus','creatinine', 'CAF_caffeine', 'DEX_dextromethorphan', 'MDZ_midazolam', 'CAF_methylxanthine', 'DEX_3hydroxymorphinan', 'DEX_3methoxymorphinan', 'MDZ_5hydroxyMDZ', 'MDZ_hydroxyMDZ_glucuronide', 'OME1_Omeprazole', 'OME3_Omeprazole_sulfide', 'OME4_Omeprazole_sulfone', 'OME5_Hydroxyomeprazole', 'OME7_Hydroxyomeprazole_sulfide', 'OME11_Carboxyomeprazole', 'OME13_Carboxyomeprazole_sulfide', 'OME15_Carboxyomeprazole_sulfone', 'OME17_5_O_desmethylomeprazole', 'OME1920_O_desmethylomeprazole_sulfide', 'OME27_Omeprazole_sulfide_O_glucuronide', 'OME29_Omeprazole_sulfide_4_O_glucuronide']"
   ]
  },
  {
   "cell_type": "code",
   "execution_count": 20,
   "metadata": {},
   "outputs": [],
   "source": [
    "df_dist = pd.DataFrame({'r':[], 'dof':[], 'pval':[], 'CI95%':[], 'power':[]})"
   ]
  },
  {
   "cell_type": "code",
   "execution_count": 21,
   "metadata": {},
   "outputs": [],
   "source": [
    "for i in metabolites_dist:\n",
    "    x = pg.rm_corr(data=met_subset_dist, x='Distance_d0', y=i, subject='host_subject_id')\n",
    "    df_dist = df_dist.append(x)"
   ]
  },
  {
   "cell_type": "code",
   "execution_count": 22,
   "metadata": {},
   "outputs": [],
   "source": [
    "df_dist['name'] = (metabolites_dist)"
   ]
  },
  {
   "cell_type": "code",
   "execution_count": 23,
   "metadata": {},
   "outputs": [],
   "source": [
    "sig = []\n",
    "for i in df_dist['pval']:\n",
    "    if i > 0.05: \n",
    "        sig.append('FALSE')\n",
    "    else:\n",
    "        sig.append('TRUE')\n",
    "df_dist['sig'] = sig"
   ]
  },
  {
   "cell_type": "code",
   "execution_count": 24,
   "metadata": {},
   "outputs": [],
   "source": [
    "df_dist.to_csv('Final_Figures/RM_Corr/Correlation_unweighted_uni_ObsOTU.txt', sep='\\t')"
   ]
  },
  {
   "cell_type": "code",
   "execution_count": 25,
   "metadata": {},
   "outputs": [
    {
     "data": {
      "text/html": [
       "<div>\n",
       "<style scoped>\n",
       "    .dataframe tbody tr th:only-of-type {\n",
       "        vertical-align: middle;\n",
       "    }\n",
       "\n",
       "    .dataframe tbody tr th {\n",
       "        vertical-align: top;\n",
       "    }\n",
       "\n",
       "    .dataframe thead th {\n",
       "        text-align: right;\n",
       "    }\n",
       "</style>\n",
       "<table border=\"1\" class=\"dataframe\">\n",
       "  <thead>\n",
       "    <tr style=\"text-align: right;\">\n",
       "      <th></th>\n",
       "      <th>r</th>\n",
       "      <th>dof</th>\n",
       "      <th>pval</th>\n",
       "      <th>CI95%</th>\n",
       "      <th>power</th>\n",
       "      <th>name</th>\n",
       "      <th>sig</th>\n",
       "    </tr>\n",
       "  </thead>\n",
       "  <tbody>\n",
       "    <tr>\n",
       "      <th>rm_corr</th>\n",
       "      <td>0.578</td>\n",
       "      <td>62.0</td>\n",
       "      <td>5.779251e-07</td>\n",
       "      <td>[0.39, 0.72]</td>\n",
       "      <td>0.999</td>\n",
       "      <td>time_point</td>\n",
       "      <td>TRUE</td>\n",
       "    </tr>\n",
       "    <tr>\n",
       "      <th>rm_corr</th>\n",
       "      <td>-0.725</td>\n",
       "      <td>62.0</td>\n",
       "      <td>1.279305e-11</td>\n",
       "      <td>[-0.82, -0.58]</td>\n",
       "      <td>1.000</td>\n",
       "      <td>observed_otus</td>\n",
       "      <td>TRUE</td>\n",
       "    </tr>\n",
       "    <tr>\n",
       "      <th>rm_corr</th>\n",
       "      <td>0.177</td>\n",
       "      <td>62.0</td>\n",
       "      <td>1.618573e-01</td>\n",
       "      <td>[-0.07, 0.41]</td>\n",
       "      <td>0.290</td>\n",
       "      <td>creatinine</td>\n",
       "      <td>FALSE</td>\n",
       "    </tr>\n",
       "    <tr>\n",
       "      <th>rm_corr</th>\n",
       "      <td>0.399</td>\n",
       "      <td>62.0</td>\n",
       "      <td>1.086172e-03</td>\n",
       "      <td>[0.17, 0.59]</td>\n",
       "      <td>0.914</td>\n",
       "      <td>CAF_caffeine</td>\n",
       "      <td>TRUE</td>\n",
       "    </tr>\n",
       "    <tr>\n",
       "      <th>rm_corr</th>\n",
       "      <td>0.073</td>\n",
       "      <td>62.0</td>\n",
       "      <td>5.663662e-01</td>\n",
       "      <td>[-0.18, 0.31]</td>\n",
       "      <td>0.088</td>\n",
       "      <td>DEX_dextromethorphan</td>\n",
       "      <td>FALSE</td>\n",
       "    </tr>\n",
       "  </tbody>\n",
       "</table>\n",
       "</div>"
      ],
      "text/plain": [
       "             r   dof          pval           CI95%  power  \\\n",
       "rm_corr  0.578  62.0  5.779251e-07    [0.39, 0.72]  0.999   \n",
       "rm_corr -0.725  62.0  1.279305e-11  [-0.82, -0.58]  1.000   \n",
       "rm_corr  0.177  62.0  1.618573e-01   [-0.07, 0.41]  0.290   \n",
       "rm_corr  0.399  62.0  1.086172e-03    [0.17, 0.59]  0.914   \n",
       "rm_corr  0.073  62.0  5.663662e-01   [-0.18, 0.31]  0.088   \n",
       "\n",
       "                         name    sig  \n",
       "rm_corr            time_point   TRUE  \n",
       "rm_corr         observed_otus   TRUE  \n",
       "rm_corr            creatinine  FALSE  \n",
       "rm_corr          CAF_caffeine   TRUE  \n",
       "rm_corr  DEX_dextromethorphan  FALSE  "
      ]
     },
     "execution_count": 25,
     "metadata": {},
     "output_type": "execute_result"
    }
   ],
   "source": [
    "df_dist.head()"
   ]
  },
  {
   "cell_type": "code",
   "execution_count": null,
   "metadata": {},
   "outputs": [],
   "source": []
  }
 ],
 "metadata": {
  "kernelspec": {
   "display_name": "Python 3",
   "language": "python",
   "name": "python3"
  },
  "language_info": {
   "codemirror_mode": {
    "name": "ipython",
    "version": 3
   },
   "file_extension": ".py",
   "mimetype": "text/x-python",
   "name": "python",
   "nbconvert_exporter": "python",
   "pygments_lexer": "ipython3",
   "version": "3.7.3"
  }
 },
 "nbformat": 4,
 "nbformat_minor": 2
}
